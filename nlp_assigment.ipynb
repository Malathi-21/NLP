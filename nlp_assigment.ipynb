{
 "cells": [
  {
   "cell_type": "code",
   "execution_count": 1,
   "metadata": {},
   "outputs": [],
   "source": [
    "import pandas as pd"
   ]
  },
  {
   "cell_type": "code",
   "execution_count": 2,
   "metadata": {},
   "outputs": [],
   "source": [
    "df = pd.read_csv(\"chat_data.csv\", encoding='cp1252')  # or encoding='ISO-8859-1'"
   ]
  },
  {
   "cell_type": "markdown",
   "metadata": {},
   "source": [
    " Time Encounters"
   ]
  },
  {
   "cell_type": "code",
   "execution_count": 3,
   "metadata": {},
   "outputs": [
    {
     "data": {
      "text/html": [
       "<div>\n",
       "<style scoped>\n",
       "    .dataframe tbody tr th:only-of-type {\n",
       "        vertical-align: middle;\n",
       "    }\n",
       "\n",
       "    .dataframe tbody tr th {\n",
       "        vertical-align: top;\n",
       "    }\n",
       "\n",
       "    .dataframe thead th {\n",
       "        text-align: right;\n",
       "    }\n",
       "</style>\n",
       "<table border=\"1\" class=\"dataframe\">\n",
       "  <thead>\n",
       "    <tr style=\"text-align: right;\">\n",
       "      <th></th>\n",
       "      <th>timestamp</th>\n",
       "      <th>sender</th>\n",
       "      <th>message</th>\n",
       "      <th>media</th>\n",
       "      <th>call_flag</th>\n",
       "    </tr>\n",
       "  </thead>\n",
       "  <tbody>\n",
       "    <tr>\n",
       "      <th>0</th>\n",
       "      <td>07-01-2020 11:04</td>\n",
       "      <td>AR</td>\n",
       "      <td>See you</td>\n",
       "      <td>True</td>\n",
       "      <td>Yes</td>\n",
       "    </tr>\n",
       "    <tr>\n",
       "      <th>1</th>\n",
       "      <td>06-12-2019 01:12</td>\n",
       "      <td>mabel</td>\n",
       "      <td>Missed voice call</td>\n",
       "      <td>True</td>\n",
       "      <td>No</td>\n",
       "    </tr>\n",
       "    <tr>\n",
       "      <th>2</th>\n",
       "      <td>16-12-2019 07:45</td>\n",
       "      <td>mabel</td>\n",
       "      <td>What are you doing?</td>\n",
       "      <td>False</td>\n",
       "      <td>Yes</td>\n",
       "    </tr>\n",
       "    <tr>\n",
       "      <th>3</th>\n",
       "      <td>22-12-2019 05:20</td>\n",
       "      <td>AR</td>\n",
       "      <td>See you</td>\n",
       "      <td>True</td>\n",
       "      <td>Yes</td>\n",
       "    </tr>\n",
       "    <tr>\n",
       "      <th>4</th>\n",
       "      <td>03-02-2020 19:12</td>\n",
       "      <td>AR</td>\n",
       "      <td>hi</td>\n",
       "      <td>False</td>\n",
       "      <td>No</td>\n",
       "    </tr>\n",
       "  </tbody>\n",
       "</table>\n",
       "</div>"
      ],
      "text/plain": [
       "          timestamp sender              message  media call_flag\n",
       "0  07-01-2020 11:04     AR              See you   True       Yes\n",
       "1  06-12-2019 01:12  mabel    Missed voice call   True        No\n",
       "2  16-12-2019 07:45  mabel  What are you doing?  False       Yes\n",
       "3  22-12-2019 05:20     AR              See you   True       Yes\n",
       "4  03-02-2020 19:12     AR                   hi  False        No"
      ]
     },
     "execution_count": 3,
     "metadata": {},
     "output_type": "execute_result"
    }
   ],
   "source": [
    "df.head(5)"
   ]
  },
  {
   "cell_type": "code",
   "execution_count": 4,
   "metadata": {},
   "outputs": [],
   "source": [
    "df['datetime'] = pd.to_datetime(df['timestamp'], dayfirst=True)  # Replace with your actual column name\n",
    "\n",
    "most_active_date = df['datetime'].dt.date.value_counts().idxmax()\n",
    "most_active_day = df['datetime'].dt.day_name().value_counts().idxmax()\n",
    "most_active_hour = df['datetime'].dt.hour.mode()[0]\n",
    "\n",
    "avg_messages_per_day = df.groupby(df['datetime'].dt.date).size().mean()\n"
   ]
  },
  {
   "cell_type": "code",
   "execution_count": 5,
   "metadata": {},
   "outputs": [
    {
     "name": "stdout",
     "output_type": "stream",
     "text": [
      "📅 Time Encounters:\n",
      "• Most Active Date: 2020-02-04\n",
      "• Most Active Day: Sunday\n",
      "• Most Active Hour: 18\n",
      "• Average Number of Messages per Day: 3.125\n"
     ]
    }
   ],
   "source": [
    "print(\"📅 Time Encounters:\")\n",
    "print(f\"• Most Active Date: {most_active_date}\")\n",
    "print(f\"• Most Active Day: {most_active_day}\")\n",
    "print(f\"• Most Active Hour: {most_active_hour}\")\n",
    "print(f\"• Average Number of Messages per Day: {avg_messages_per_day}\")"
   ]
  },
  {
   "cell_type": "markdown",
   "metadata": {},
   "source": [
    " Flirt Encounters (NLP-Based)"
   ]
  },
  {
   "cell_type": "code",
   "execution_count": 6,
   "metadata": {},
   "outputs": [],
   "source": [
    "from sklearn.feature_extraction.text import CountVectorizer\n",
    "\n",
    "flirt_words = ['love', 'cute', 'baby', 'sweet', 'darling']\n",
    "vectorizer = CountVectorizer(vocabulary=flirt_words, lowercase=True)\n",
    "\n",
    "flirt_matrix = vectorizer.fit_transform(df['message'].astype(str))\n",
    "df['flirt_score'] = flirt_matrix.sum(axis=1)\n",
    "\n",
    "flirt_by_person = df.groupby('sender')['flirt_score'].sum()\n",
    "most_flirty = flirt_by_person.idxmax()\n",
    "least_flirty = flirt_by_person.idxmin()\n"
   ]
  },
  {
   "cell_type": "code",
   "execution_count": 7,
   "metadata": {},
   "outputs": [
    {
     "name": "stdout",
     "output_type": "stream",
     "text": [
      "Flirt Encounters:\n",
      "• flirt_person: sender\n",
      "AR       15\n",
      "mabel    14\n",
      "Name: flirt_score, dtype: int64\n",
      "• Most_flirty: AR\n",
      "• Most_flirty: mabel\n",
      "• Average Number of Messages per Day: 3.125\n"
     ]
    }
   ],
   "source": [
    "print(\"Flirt Encounters:\")\n",
    "print(f\"• flirt_person: {flirt_by_person}\")\n",
    "print(f\"• Most_flirty: {most_flirty}\")\n",
    "print(f\"• Most_flirty: {least_flirty}\")\n",
    "print(f\"• Average Number of Messages per Day: {avg_messages_per_day}\")"
   ]
  },
  {
   "cell_type": "markdown",
   "metadata": {},
   "source": [
    "Media Encounters"
   ]
  },
  {
   "cell_type": "code",
   "execution_count": 8,
   "metadata": {},
   "outputs": [],
   "source": [
    "media_count = df['message'].str.contains('<Media omitted>').sum()\n",
    "deleted_count = df['message'].str.contains('This message was deleted').sum()\n",
    "missed_voice = df['message'].str.contains('Missed voice call').sum()\n",
    "missed_video = df['message'].str.contains('Missed video call').sum()\n"
   ]
  },
  {
   "cell_type": "code",
   "execution_count": 9,
   "metadata": {},
   "outputs": [
    {
     "name": "stdout",
     "output_type": "stream",
     "text": [
      "Media Encounters:\n",
      "• media_count: 12\n",
      "• deleted: 0\n",
      "• voice_missed: 5\n",
      "• Avideo_missed: 5\n"
     ]
    }
   ],
   "source": [
    "print(\"Media Encounters:\")\n",
    "print(f\"• media_count: {media_count}\")\n",
    "print(f\"• deleted: {deleted_count}\")\n",
    "print(f\"• voice_missed: {missed_voice}\")\n",
    "print(f\"• Avideo_missed: {missed_video}\")"
   ]
  },
  {
   "cell_type": "markdown",
   "metadata": {},
   "source": [
    "Visualization"
   ]
  },
  {
   "cell_type": "code",
   "execution_count": 10,
   "metadata": {},
   "outputs": [
    {
     "data": {
      "image/png": "[encoded data removed]",
      "text/plain": [
       "<Figure size 1200x400 with 1 Axes>"
      ]
     },
     "metadata": {},
     "output_type": "display_data"
    }
   ],
   "source": [
    "import matplotlib.pyplot as plt\n",
    "\n",
    "daily_msg_counts = df.groupby(df['datetime'].dt.date).size()\n",
    "\n",
    "daily_msg_counts.plot(kind='bar', figsize=(12, 4))\n",
    "plt.title(\"Daily Message Count\")\n",
    "plt.ylabel(\"Count\")\n",
    "plt.xlabel(\"Date\")\n",
    "plt.tight_layout()\n",
    "plt.show()\n"
   ]
  }
 ],
 "metadata": {
  "kernelspec": {
   "display_name": "Python 3",
   "language": "python",
   "name": "python3"
  },
  "language_info": {
   "codemirror_mode": {
    "name": "ipython",
    "version": 3
   },
   "file_extension": ".py",
   "mimetype": "text/x-python",
   "name": "python",
   "nbconvert_exporter": "python",
   "pygments_lexer": "ipython3",
   "version": "3.11.9"
  }
 },
 "nbformat": 4,
 "nbformat_minor": 2
}
